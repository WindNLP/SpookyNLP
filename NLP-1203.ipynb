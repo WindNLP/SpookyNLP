{
 "cells": [
  {
   "cell_type": "code",
   "execution_count": 1,
   "metadata": {
    "collapsed": true
   },
   "outputs": [],
   "source": [
    "# from andy\n",
    "import warnings\n",
    "warnings.filterwarnings(action='ignore', category=UserWarning, module='gensim')\n",
    "from gensim import corpora\n",
    "import nltk.data\n",
    "import pandas as pd\n",
    "import numpy as np"
   ]
  },
  {
   "cell_type": "code",
   "execution_count": 2,
   "metadata": {
    "collapsed": true
   },
   "outputs": [],
   "source": [
    "df = pd.read_csv(\"/Users/Salute/Downloads/train.csv\")"
   ]
  },
  {
   "cell_type": "code",
   "execution_count": 3,
   "metadata": {
    "collapsed": true
   },
   "outputs": [],
   "source": [
    "from sklearn.model_selection import train_test_split  \n",
    "from sklearn.feature_extraction.text import  CountVectorizer  \n",
    "from sklearn.feature_extraction.text import  TfidfVectorizer  \n",
    "from sklearn.naive_bayes import MultinomialNB\n",
    "from sklearn.naive_bayes import GaussianNB \n",
    "from sklearn.naive_bayes import BernoulliNB \n",
    "# from nltk.tokenize import word_tokenize\n",
    "# from nltk.stem import WordNetLemmatizer   #\"\"\"词形还原(lemmatizer)，即把一个任何形式的英语单词还原到一般形式，与词根还原不同(stemmer)，后者是抽取一个单词的词根。\"\"\"\n",
    "from sklearn import svm\n",
    "from sklearn.decomposition import TruncatedSVD\n",
    "from sklearn.random_projection import sparse_random_matrix\n",
    "from sklearn.metrics import accuracy_score\n",
    "from sklearn.linear_model import LogisticRegression,RidgeClassifier,RidgeClassifierCV\n",
    "from sklearn.neighbors import KNeighborsClassifier"
   ]
  },
  {
   "cell_type": "code",
   "execution_count": 4,
   "metadata": {
    "collapsed": true
   },
   "outputs": [],
   "source": [
    "count_vec = TfidfVectorizer(binary = False, decode_error = 'ignore',stop_words = 'english')"
   ]
  },
  {
   "cell_type": "code",
   "execution_count": 5,
   "metadata": {
    "collapsed": true
   },
   "outputs": [],
   "source": [
    "x_train, x_test, y_train, y_test = train_test_split(df['text'],df['author'],test_size = 0.2,random_state=14)"
   ]
  },
  {
   "cell_type": "code",
   "execution_count": 6,
   "metadata": {
    "collapsed": true
   },
   "outputs": [],
   "source": [
    "x_train = count_vec.fit_transform(x_train)  \n",
    "x_test  = count_vec.transform(x_test)"
   ]
  },
  {
   "cell_type": "code",
   "execution_count": 7,
   "metadata": {},
   "outputs": [
    {
     "name": "stdout",
     "output_type": "stream",
     "text": [
      "0.80975485189\n"
     ]
    },
    {
     "data": {
      "text/plain": [
       "array(['EAP', 'HPL', 'MWS', 'EAP', 'EAP', 'EAP', 'HPL', 'HPL', 'HPL',\n",
       "       'EAP', 'MWS', 'EAP', 'MWS', 'HPL', 'EAP', 'MWS', 'HPL', 'MWS',\n",
       "       'HPL', 'MWS', 'HPL', 'EAP', 'EAP', 'MWS', 'EAP', 'EAP', 'EAP',\n",
       "       'MWS', 'MWS', 'EAP', 'EAP', 'EAP', 'EAP', 'MWS', 'MWS', 'MWS',\n",
       "       'MWS', 'EAP', 'HPL', 'EAP', 'HPL', 'HPL', 'HPL', 'HPL', 'MWS',\n",
       "       'MWS', 'MWS', 'EAP', 'MWS', 'HPL', 'EAP', 'EAP', 'HPL', 'MWS',\n",
       "       'HPL', 'HPL', 'HPL', 'EAP', 'HPL', 'MWS', 'HPL', 'MWS', 'MWS',\n",
       "       'MWS', 'HPL', 'MWS', 'EAP', 'MWS', 'MWS', 'EAP', 'HPL', 'EAP',\n",
       "       'EAP', 'EAP', 'EAP', 'EAP', 'HPL', 'EAP', 'EAP', 'HPL', 'MWS',\n",
       "       'HPL', 'EAP', 'HPL', 'EAP', 'MWS', 'EAP', 'HPL', 'MWS', 'EAP',\n",
       "       'EAP', 'EAP', 'MWS', 'EAP', 'EAP', 'EAP', 'HPL', 'EAP', 'EAP', 'MWS'],\n",
       "      dtype='<U3')"
      ]
     },
     "execution_count": 7,
     "metadata": {},
     "output_type": "execute_result"
    }
   ],
   "source": [
    "clf = BernoulliNB().fit(x_train, y_train)  \n",
    "doc_class_predicted = clf.predict(x_test)\n",
    "print(np.mean(doc_class_predicted == y_test))\n",
    "res = clf.predict(x_test)[0:100]\n",
    "res"
   ]
  },
  {
   "cell_type": "code",
   "execution_count": 8,
   "metadata": {},
   "outputs": [
    {
     "data": {
      "text/plain": [
       "SVC(C=1, cache_size=200, class_weight=None, coef0=0.0,\n",
       "  decision_function_shape='ovr', degree=3, gamma='auto', kernel='linear',\n",
       "  max_iter=-1, probability=False, random_state=None, shrinking=True,\n",
       "  tol=0.001, verbose=False)"
      ]
     },
     "execution_count": 8,
     "metadata": {},
     "output_type": "execute_result"
    }
   ],
   "source": [
    "clf = svm.SVC(C=1, kernel='linear')   #C是惩罚系数，越大越精确，但容易过拟合‘linear’, ‘poly’, ‘rbf’, ‘sigmoid’, \n",
    "clf.fit(x_train, y_train)"
   ]
  },
  {
   "cell_type": "code",
   "execution_count": 9,
   "metadata": {},
   "outputs": [
    {
     "name": "stdout",
     "output_type": "stream",
     "text": [
      "0.948924216306\n",
      "训练集准确率： 0.948924216306\n",
      "0.805669050051\n",
      "测试集准确率： 0.805669050051\n",
      "\n",
      "predict:  ['EAP' 'HPL' 'MWS' 'EAP' 'EAP' 'EAP' 'HPL' 'HPL' 'HPL' 'EAP' 'EAP' 'EAP'\n",
      " 'MWS' 'HPL' 'EAP' 'MWS' 'HPL' 'MWS' 'HPL' 'MWS' 'MWS' 'EAP' 'EAP' 'MWS'\n",
      " 'HPL' 'MWS' 'EAP' 'MWS' 'MWS' 'EAP' 'MWS' 'EAP' 'MWS' 'MWS' 'MWS' 'MWS'\n",
      " 'MWS' 'HPL' 'HPL' 'EAP' 'HPL' 'HPL' 'HPL' 'EAP' 'MWS' 'MWS' 'MWS' 'HPL'\n",
      " 'MWS' 'HPL' 'EAP' 'EAP' 'HPL' 'MWS' 'HPL' 'HPL' 'HPL' 'EAP' 'EAP' 'MWS'\n",
      " 'HPL' 'MWS' 'MWS' 'MWS' 'EAP' 'MWS' 'HPL' 'MWS' 'MWS' 'EAP' 'HPL' 'HPL'\n",
      " 'EAP' 'EAP' 'EAP' 'EAP' 'HPL' 'EAP' 'EAP' 'HPL' 'MWS' 'HPL' 'EAP' 'HPL'\n",
      " 'EAP' 'EAP' 'EAP' 'HPL' 'MWS' 'EAP' 'EAP' 'EAP' 'MWS' 'HPL' 'MWS' 'EAP'\n",
      " 'HPL' 'EAP' 'EAP' 'MWS']\n"
     ]
    }
   ],
   "source": [
    "print (clf.score(x_train, y_train))\n",
    "print ('训练集准确率：', accuracy_score(y_train, clf.predict(x_train)))\n",
    "print (clf.score(x_test, y_test))\n",
    "print ('测试集准确率：', accuracy_score(y_test, clf.predict(x_test)))\n",
    "print ('\\npredict: ', clf.predict(x_test[0:100]))"
   ]
  },
  {
   "cell_type": "code",
   "execution_count": 10,
   "metadata": {},
   "outputs": [
    {
     "data": {
      "text/plain": [
       "KNeighborsClassifier(algorithm='auto', leaf_size=30, metric='minkowski',\n",
       "           metric_params=None, n_jobs=1, n_neighbors=5, p=2,\n",
       "           weights='uniform')"
      ]
     },
     "execution_count": 10,
     "metadata": {},
     "output_type": "execute_result"
    }
   ],
   "source": [
    "lr = LogisticRegression()\n",
    "rc = RidgeClassifier()\n",
    "knn = KNeighborsClassifier()\n",
    "\n",
    "lr.fit(x_train, y_train)\n",
    "rc.fit(x_train, y_train)\n",
    "knn.fit(x_train, y_train)"
   ]
  },
  {
   "cell_type": "code",
   "execution_count": null,
   "metadata": {},
   "outputs": [
    {
     "name": "stdout",
     "output_type": "stream",
     "text": [
      "0.90812743408\n",
      "0.792134831461\n",
      "0.973440592479\n",
      "0.814862104188\n"
     ]
    }
   ],
   "source": [
    "\n",
    "lr_score1 = accuracy_score(y_train, lr.predict(x_train))\n",
    "lr_score2 = accuracy_score(y_test, lr.predict(x_test))\n",
    "print(lr_score1)\n",
    "print(lr_score2)\n",
    "rc_score1 = accuracy_score(y_train, rc.predict(x_train))\n",
    "rc_score2 = accuracy_score(y_test, rc.predict(x_test))\n",
    "print(rc_score1)\n",
    "print(rc_score2)\n",
    "# knn_score1 = accuracy_score(y_train, knn.predict(x_train))\n",
    "# knn_score2 = accuracy_score(y_test, knn.predict(x_test))\n",
    "# print(knn_score1)\n",
    "# print(knn_score2)"
   ]
  },
  {
   "cell_type": "code",
   "execution_count": null,
   "metadata": {
    "collapsed": true
   },
   "outputs": [],
   "source": [
    "rcv=RidgeClassifierCV()\n",
    "rcv.fit(x_train, y_train)\n",
    "rcv_score1 = accuracy_score(y_train, rcv.predict(x_train))\n",
    "rcv_score2 = accuracy_score(y_test, rcv.predict(x_test))\n",
    "print(rcv_score1)\n",
    "print(rcv_score2)"
   ]
  },
  {
   "cell_type": "code",
   "execution_count": null,
   "metadata": {
    "collapsed": true
   },
   "outputs": [],
   "source": []
  }
 ],
 "metadata": {
  "kernelspec": {
   "display_name": "Python 3",
   "language": "python",
   "name": "python3"
  },
  "language_info": {
   "codemirror_mode": {
    "name": "ipython",
    "version": 3
   },
   "file_extension": ".py",
   "mimetype": "text/x-python",
   "name": "python",
   "nbconvert_exporter": "python",
   "pygments_lexer": "ipython3",
   "version": "3.6.2"
  }
 },
 "nbformat": 4,
 "nbformat_minor": 2
}
